{
 "cells": [
  {
   "cell_type": "code",
   "execution_count": null,
   "id": "4AZmJ6jfWEN4",
   "metadata": {
    "colab": {
     "base_uri": "https://localhost:8080/"
    },
    "executionInfo": {
     "elapsed": 17689,
     "status": "ok",
     "timestamp": 1696378653470,
     "user": {
      "displayName": "Mert Karabacak",
      "userId": "14308977132914475412"
     },
     "user_tz": 240
    },
    "id": "4AZmJ6jfWEN4",
    "outputId": "18bd230a-a6e6-4053-b1c6-944537173416"
   },
   "outputs": [],
   "source": [
    "from google.colab import drive\n",
    "drive.mount('/content/drive')"
   ]
  },
  {
   "cell_type": "code",
   "execution_count": null,
   "id": "45bff18b",
   "metadata": {
    "executionInfo": {
     "elapsed": 1607,
     "status": "ok",
     "timestamp": 1696378655041,
     "user": {
      "displayName": "Mert Karabacak",
      "userId": "14308977132914475412"
     },
     "user_tz": 240
    },
    "id": "45bff18b"
   },
   "outputs": [],
   "source": [
    "import numpy as np\n",
    "import pandas as pd\n",
    "from pandas.api.types import CategoricalDtype\n",
    "\n",
    "from sklearn.preprocessing import LabelEncoder\n",
    "from sklearn.preprocessing import MinMaxScaler\n",
    "from sklearn.impute import KNNImputer\n",
    "\n",
    "from matplotlib import pyplot as plt\n",
    "\n",
    "pd.set_option('display.max_rows', None)"
   ]
  },
  {
   "cell_type": "code",
   "execution_count": null,
   "id": "721c822b",
   "metadata": {
    "colab": {
     "base_uri": "https://localhost:8080/"
    },
    "executionInfo": {
     "elapsed": 1239,
     "status": "ok",
     "timestamp": 1696378656274,
     "user": {
      "displayName": "Mert Karabacak",
      "userId": "14308977132914475412"
     },
     "user_tz": 240
    },
    "id": "721c822b",
    "outputId": "bbbcb333-b268-4aa0-cb72-fd7d428d0f23"
   },
   "outputs": [],
   "source": [
    "#Open csv file.\n",
    "\n",
    "data = pd.read_csv(\"/content/drive/MyDrive/NCDB-GBM/raw_data.csv\", index_col='Unnamed: 0')\n",
    "data.shape"
   ]
  },
  {
   "cell_type": "code",
   "execution_count": null,
   "id": "2ddf793b",
   "metadata": {
    "colab": {
     "base_uri": "https://localhost:8080/"
    },
    "executionInfo": {
     "elapsed": 8,
     "status": "ok",
     "timestamp": 1696378656274,
     "user": {
      "displayName": "Mert Karabacak",
      "userId": "14308977132914475412"
     },
     "user_tz": 240
    },
    "id": "2ddf793b",
    "outputId": "906455a6-8088-4261-a841-450dfe470bca"
   },
   "outputs": [],
   "source": [
    "#See all columns.\n",
    "\n",
    "print(list(data.columns))"
   ]
  },
  {
   "cell_type": "code",
   "execution_count": null,
   "id": "LEGctLQkCsnu",
   "metadata": {
    "executionInfo": {
     "elapsed": 5,
     "status": "ok",
     "timestamp": 1696378656274,
     "user": {
      "displayName": "Mert Karabacak",
      "userId": "14308977132914475412"
     },
     "user_tz": 240
    },
    "id": "LEGctLQkCsnu"
   },
   "outputs": [],
   "source": [
    "data = data[['AGE', 'SEX', 'RACE', 'SPANISH_HISPANIC_ORIGIN', 'INSURANCE_STATUS', 'FACILITY_TYPE_CD', 'FACILITY_LOCATION_CD', 'CDCC_TOTAL_BEST', 'TUMOR_SIZE_SUMMARY_2016', 'METHYLATION_O6MGMT', 'RX_SUMM_SURG_PRIM_SITE', 'NUMBER_PHASES_RAD_RX', 'RX_SUMM_CHEMO', 'RX_SUMM_IMMUNOTHERAPY', 'DX_LASTCONTACT_DEATH_MONTHS', 'PUF_VITAL_STATUS']]"
   ]
  },
  {
   "cell_type": "code",
   "execution_count": null,
   "id": "cc12859a",
   "metadata": {
    "executionInfo": {
     "elapsed": 4,
     "status": "ok",
     "timestamp": 1696378656274,
     "user": {
      "displayName": "Mert Karabacak",
      "userId": "14308977132914475412"
     },
     "user_tz": 240
    },
    "id": "cc12859a"
   },
   "outputs": [],
   "source": [
    "#Manual label encoding.\n",
    "\n",
    "data.loc[data['SEX'] == 'Male', 'SEX'] = 0\n",
    "data.loc[data['SEX'] == 'Female', 'SEX'] = 1\n",
    "\n",
    "data.loc[data['RACE'] == 'White', 'RACE'] = 0\n",
    "data.loc[data['RACE'] == 'Black', 'RACE'] = 1\n",
    "data.loc[data['RACE'] == 'Other', 'RACE'] = 2\n",
    "\n",
    "data.loc[data['SPANISH_HISPANIC_ORIGIN'] == 'No', 'SPANISH_HISPANIC_ORIGIN'] = 0\n",
    "data.loc[data['SPANISH_HISPANIC_ORIGIN'] == 'Yes', 'SPANISH_HISPANIC_ORIGIN'] = 1\n",
    "\n",
    "data.loc[data['INSURANCE_STATUS'] == 'Private insurance', 'INSURANCE_STATUS'] = 0\n",
    "data.loc[data['INSURANCE_STATUS'] == 'Medicare', 'INSURANCE_STATUS'] = 1\n",
    "data.loc[data['INSURANCE_STATUS'] == 'Medicaid', 'INSURANCE_STATUS'] = 2\n",
    "data.loc[data['INSURANCE_STATUS'] == 'Other government', 'INSURANCE_STATUS'] = 3\n",
    "data.loc[data['INSURANCE_STATUS'] == 'Not insured', 'INSURANCE_STATUS'] = 4\n",
    "\n",
    "data.loc[data['FACILITY_TYPE_CD'] == 'Academic/Research Program', 'FACILITY_TYPE_CD'] = 0\n",
    "data.loc[data['FACILITY_TYPE_CD'] == 'Community Cancer Program', 'FACILITY_TYPE_CD'] = 1\n",
    "data.loc[data['FACILITY_TYPE_CD'] == 'Integrated Network Cancer Program', 'FACILITY_TYPE_CD'] = 2\n",
    "\n",
    "data.loc[data['FACILITY_LOCATION_CD'] == 'Central', 'FACILITY_LOCATION_CD'] = 0\n",
    "data.loc[data['FACILITY_LOCATION_CD'] == 'Atlantic', 'FACILITY_LOCATION_CD'] = 1\n",
    "data.loc[data['FACILITY_LOCATION_CD'] == 'Pacific', 'FACILITY_LOCATION_CD'] = 2\n",
    "data.loc[data['FACILITY_LOCATION_CD'] == 'New England', 'FACILITY_LOCATION_CD'] = 3\n",
    "data.loc[data['FACILITY_LOCATION_CD'] == 'Mountain', 'FACILITY_LOCATION_CD'] = 4\n",
    "\n",
    "data.loc[data['CDCC_TOTAL_BEST'] == '0', 'CDCC_TOTAL_BEST'] = 0\n",
    "data.loc[data['CDCC_TOTAL_BEST'] == '1', 'CDCC_TOTAL_BEST'] = 1\n",
    "data.loc[data['CDCC_TOTAL_BEST'] == '>2', 'CDCC_TOTAL_BEST'] = 2\n",
    "\n",
    "data.loc[data['METHYLATION_O6MGMT'] == 'Unmethylated', 'METHYLATION_O6MGMT'] = 0\n",
    "data.loc[data['METHYLATION_O6MGMT'] == 'Methylated', 'METHYLATION_O6MGMT'] = 1\n",
    "\n",
    "data.loc[data['RX_SUMM_SURG_PRIM_SITE'] == 'No resective surgery was performed', 'RX_SUMM_SURG_PRIM_SITE'] = 0\n",
    "data.loc[data['RX_SUMM_SURG_PRIM_SITE'] == 'Gross total resection', 'RX_SUMM_SURG_PRIM_SITE'] = 1\n",
    "data.loc[data['RX_SUMM_SURG_PRIM_SITE'] == 'Subtotal resection', 'RX_SUMM_SURG_PRIM_SITE'] = 2\n",
    "\n",
    "data.loc[data['NUMBER_PHASES_RAD_RX'] == 'No', 'NUMBER_PHASES_RAD_RX'] = 0\n",
    "data.loc[data['NUMBER_PHASES_RAD_RX'] == 'Yes', 'NUMBER_PHASES_RAD_RX'] = 1\n",
    "\n",
    "data.loc[data['RX_SUMM_CHEMO'] == 'No', 'RX_SUMM_CHEMO'] = 0\n",
    "data.loc[data['RX_SUMM_CHEMO'] == 'Yes', 'RX_SUMM_CHEMO'] = 1\n",
    "\n",
    "data.loc[data['RX_SUMM_IMMUNOTHERAPY'] == 'No', 'RX_SUMM_IMMUNOTHERAPY'] = 0\n",
    "data.loc[data['RX_SUMM_IMMUNOTHERAPY'] == 'Yes', 'RX_SUMM_IMMUNOTHERAPY'] = 1\n",
    "\n",
    "data.loc[data['PUF_VITAL_STATUS'] == 'Alive', 'PUF_VITAL_STATUS'] = 0\n",
    "data.loc[data['PUF_VITAL_STATUS'] == 'Dead', 'PUF_VITAL_STATUS'] = 1"
   ]
  },
  {
   "cell_type": "code",
   "execution_count": null,
   "id": "L8vW6qhfGhBJ",
   "metadata": {
    "executionInfo": {
     "elapsed": 287,
     "status": "ok",
     "timestamp": 1696378656557,
     "user": {
      "displayName": "Mert Karabacak",
      "userId": "14308977132914475412"
     },
     "user_tz": 240
    },
    "id": "L8vW6qhfGhBJ"
   },
   "outputs": [],
   "source": [
    "#Save imputed data.\n",
    "\n",
    "data.to_csv('/content/drive/MyDrive/NCDB-GBM/unimputed_data.csv')"
   ]
  },
  {
   "cell_type": "code",
   "execution_count": null,
   "id": "9qb-RS2ZCu0d",
   "metadata": {
    "executionInfo": {
     "elapsed": 3,
     "status": "ok",
     "timestamp": 1696378656557,
     "user": {
      "displayName": "Mert Karabacak",
      "userId": "14308977132914475412"
     },
     "user_tz": 240
    },
    "id": "9qb-RS2ZCu0d"
   },
   "outputs": [],
   "source": [
    "#Impute lenghth of stay as '0' for non-surgical patients.\n",
    "\n",
    "data.loc[data['RX_SUMM_SURG_PRIM_SITE'] == 0, 'SURG_DISCHARGE_DAYS'] = 0"
   ]
  },
  {
   "cell_type": "code",
   "execution_count": null,
   "id": "f7a6bff0",
   "metadata": {
    "colab": {
     "base_uri": "https://localhost:8080/"
    },
    "executionInfo": {
     "elapsed": 5,
     "status": "ok",
     "timestamp": 1696378656946,
     "user": {
      "displayName": "Mert Karabacak",
      "userId": "14308977132914475412"
     },
     "user_tz": 240
    },
    "id": "f7a6bff0",
    "outputId": "5f8d7969-99e1-421c-bf4c-9fb12e7977f5"
   },
   "outputs": [],
   "source": [
    "#Check missing values before imputation.\n",
    "\n",
    "missing_cols = data.isnull().mean().round(4).mul(100).sort_values(ascending=False)\n",
    "\n",
    "print(missing_cols, '\\n')\n",
    "\n",
    "missing_cols = pd.DataFrame(missing_cols)\n",
    "\n",
    "missing_cols.columns = ['Value']\n",
    "\n",
    "missing_cols = missing_cols[missing_cols['Value'] > 0]\n",
    "\n",
    "print('Columns with missing values: ', list(missing_cols.index), '\\n')\n",
    "\n",
    "print('Number of columns with missing values: ', len(list(missing_cols.index)), '\\n')"
   ]
  },
  {
   "cell_type": "code",
   "execution_count": null,
   "id": "yF6BHaD6GGLr",
   "metadata": {
    "executionInfo": {
     "elapsed": 4,
     "status": "ok",
     "timestamp": 1696378656947,
     "user": {
      "displayName": "Mert Karabacak",
      "userId": "14308977132914475412"
     },
     "user_tz": 240
    },
    "id": "yF6BHaD6GGLr"
   },
   "outputs": [],
   "source": [
    "columns = data.columns"
   ]
  },
  {
   "cell_type": "code",
   "execution_count": null,
   "id": "ff8609cd",
   "metadata": {
    "executionInfo": {
     "elapsed": 3159,
     "status": "ok",
     "timestamp": 1696378660102,
     "user": {
      "displayName": "Mert Karabacak",
      "userId": "14308977132914475412"
     },
     "user_tz": 240
    },
    "id": "ff8609cd"
   },
   "outputs": [],
   "source": [
    "#Impute missing numerical values.\n",
    "\n",
    "imputer = KNNImputer(n_neighbors=5, weights='uniform', metric='nan_euclidean')\n",
    "data = imputer.fit_transform(data)\n",
    "\n",
    "data = pd.DataFrame(data)\n",
    "\n",
    "data.columns = columns\n",
    "\n",
    "data = data.applymap(round)\n",
    "\n",
    "data.columns = columns\n"
   ]
  },
  {
   "cell_type": "code",
   "execution_count": null,
   "id": "k-Fyb7UIFHOJ",
   "metadata": {
    "colab": {
     "base_uri": "https://localhost:8080/"
    },
    "executionInfo": {
     "elapsed": 12,
     "status": "ok",
     "timestamp": 1696378660102,
     "user": {
      "displayName": "Mert Karabacak",
      "userId": "14308977132914475412"
     },
     "user_tz": 240
    },
    "id": "k-Fyb7UIFHOJ",
    "outputId": "d3fab1aa-5287-44a4-9147-44d368f860cf"
   },
   "outputs": [],
   "source": [
    "#Check missing values after imputation.\n",
    "\n",
    "missing_cols = data.isnull().mean().round(4).mul(100).sort_values(ascending=False)\n",
    "\n",
    "print(missing_cols, '\\n')\n",
    "\n",
    "missing_cols = pd.DataFrame(missing_cols)\n",
    "\n",
    "missing_cols.columns = ['Value']\n",
    "\n",
    "missing_cols = missing_cols[missing_cols['Value'] > 0]\n",
    "\n",
    "print('Columns with missing values: ', list(missing_cols.index), '\\n')\n",
    "\n",
    "print('Number of columns with missing values: ', len(list(missing_cols.index)), '\\n')"
   ]
  },
  {
   "cell_type": "code",
   "execution_count": null,
   "id": "4336ba8a",
   "metadata": {
    "executionInfo": {
     "elapsed": 213,
     "status": "ok",
     "timestamp": 1696378660309,
     "user": {
      "displayName": "Mert Karabacak",
      "userId": "14308977132914475412"
     },
     "user_tz": 240
    },
    "id": "4336ba8a"
   },
   "outputs": [],
   "source": [
    "#Save imputed data.\n",
    "\n",
    "data.to_csv('/content/drive/MyDrive/NCDB-GBM/imputed_data.csv')"
   ]
  },
  {
   "cell_type": "code",
   "execution_count": null,
   "id": "QKl2ApoKAatF",
   "metadata": {
    "executionInfo": {
     "elapsed": 274,
     "status": "ok",
     "timestamp": 1696378707951,
     "user": {
      "displayName": "Mert Karabacak",
      "userId": "14308977132914475412"
     },
     "user_tz": 240
    },
    "id": "QKl2ApoKAatF"
   },
   "outputs": [],
   "source": [
    "# Reversing manual label encoding.\n",
    "\n",
    "as_data = data.copy()\n",
    "\n",
    "as_data.loc[as_data['SEX'] == 0, 'SEX'] = 'Male'\n",
    "as_data.loc[as_data['SEX'] == 1, 'SEX'] = 'Female'\n",
    "\n",
    "as_data.loc[as_data['RACE'] == 0, 'RACE'] = 'White'\n",
    "as_data.loc[as_data['RACE'] == 1, 'RACE'] = 'Black'\n",
    "as_data.loc[as_data['RACE'] == 2, 'RACE'] = 'Other'\n",
    "\n",
    "as_data.loc[as_data['SPANISH_HISPANIC_ORIGIN'] == 0, 'SPANISH_HISPANIC_ORIGIN'] = 'No'\n",
    "as_data.loc[as_data['SPANISH_HISPANIC_ORIGIN'] == 1, 'SPANISH_HISPANIC_ORIGIN'] = 'Yes'\n",
    "\n",
    "as_data.loc[as_data['INSURANCE_STATUS'] == 0, 'INSURANCE_STATUS'] = 'Private insurance'\n",
    "as_data.loc[as_data['INSURANCE_STATUS'] == 1, 'INSURANCE_STATUS'] = 'Medicare'\n",
    "as_data.loc[as_data['INSURANCE_STATUS'] == 2, 'INSURANCE_STATUS'] = 'Medicaid'\n",
    "as_data.loc[as_data['INSURANCE_STATUS'] == 3, 'INSURANCE_STATUS'] = 'Other government'\n",
    "as_data.loc[as_data['INSURANCE_STATUS'] == 4, 'INSURANCE_STATUS'] = 'Not insured'\n",
    "\n",
    "as_data.loc[as_data['FACILITY_TYPE_CD'] == 0, 'FACILITY_TYPE_CD'] = 'Academic/Research Program'\n",
    "as_data.loc[as_data['FACILITY_TYPE_CD'] == 1, 'FACILITY_TYPE_CD'] = 'Community Cancer Program'\n",
    "as_data.loc[as_data['FACILITY_TYPE_CD'] == 2, 'FACILITY_TYPE_CD'] = 'Integrated Network Cancer Program'\n",
    "\n",
    "as_data.loc[as_data['FACILITY_LOCATION_CD'] == 0, 'FACILITY_LOCATION_CD'] = 'Central'\n",
    "as_data.loc[as_data['FACILITY_LOCATION_CD'] == 1, 'FACILITY_LOCATION_CD'] = 'Atlantic'\n",
    "as_data.loc[as_data['FACILITY_LOCATION_CD'] == 2, 'FACILITY_LOCATION_CD'] = 'Pacific'\n",
    "as_data.loc[as_data['FACILITY_LOCATION_CD'] == 3, 'FACILITY_LOCATION_CD'] = 'New England'\n",
    "as_data.loc[as_data['FACILITY_LOCATION_CD'] == 4, 'FACILITY_LOCATION_CD'] = 'Mountain'\n",
    "\n",
    "as_data.loc[as_data['CDCC_TOTAL_BEST'] == 0, 'CDCC_TOTAL_BEST'] = '0'\n",
    "as_data.loc[as_data['CDCC_TOTAL_BEST'] == 1, 'CDCC_TOTAL_BEST'] = '1'\n",
    "as_data.loc[as_data['CDCC_TOTAL_BEST'] == 2, 'CDCC_TOTAL_BEST'] = '>2'\n",
    "\n",
    "as_data.loc[as_data['METHYLATION_O6MGMT'] == 0, 'METHYLATION_O6MGMT'] = 'Unmethylated'\n",
    "as_data.loc[as_data['METHYLATION_O6MGMT'] == 1, 'METHYLATION_O6MGMT'] = 'Methylated'\n",
    "\n",
    "as_data.loc[as_data['RX_SUMM_SURG_PRIM_SITE'] == 0, 'RX_SUMM_SURG_PRIM_SITE'] = 'No resective surgery was performed'\n",
    "as_data.loc[as_data['RX_SUMM_SURG_PRIM_SITE'] == 1, 'RX_SUMM_SURG_PRIM_SITE'] = 'Gross total resection'\n",
    "as_data.loc[as_data['RX_SUMM_SURG_PRIM_SITE'] == 2, 'RX_SUMM_SURG_PRIM_SITE'] = 'Subtotal resection'\n",
    "\n",
    "as_data.loc[as_data['NUMBER_PHASES_RAD_RX'] == 0, 'NUMBER_PHASES_RAD_RX'] = 'No'\n",
    "as_data.loc[as_data['NUMBER_PHASES_RAD_RX'] == 1, 'NUMBER_PHASES_RAD_RX'] = 'Yes'\n",
    "\n",
    "as_data.loc[as_data['RX_SUMM_CHEMO'] == 0, 'RX_SUMM_CHEMO'] = 'No'\n",
    "as_data.loc[as_data['RX_SUMM_CHEMO'] == 1, 'RX_SUMM_CHEMO'] = 'Yes'\n",
    "\n",
    "as_data.loc[as_data['RX_SUMM_IMMUNOTHERAPY'] == 0, 'RX_SUMM_IMMUNOTHERAPY'] = 'No'\n",
    "as_data.loc[as_data['RX_SUMM_IMMUNOTHERAPY'] == 1, 'RX_SUMM_IMMUNOTHERAPY'] = 'Yes'\n",
    "\n",
    "as_data.loc[as_data['PUF_VITAL_STATUS'] == 0, 'PUF_VITAL_STATUS'] = 'Alive'\n",
    "as_data.loc[as_data['PUF_VITAL_STATUS'] == 1, 'PUF_VITAL_STATUS'] = 'Dead'"
   ]
  },
  {
   "cell_type": "code",
   "execution_count": null,
   "id": "In9xnFy5B7lY",
   "metadata": {
    "executionInfo": {
     "elapsed": 397,
     "status": "ok",
     "timestamp": 1696378708340,
     "user": {
      "displayName": "Mert Karabacak",
      "userId": "14308977132914475412"
     },
     "user_tz": 240
    },
    "id": "In9xnFy5B7lY"
   },
   "outputs": [],
   "source": [
    "#Save AutoScore data.\n",
    "\n",
    "data_dictionary = pd.read_csv(\"/content/drive/MyDrive/NCDB-GBM/Data_Dictionary.csv\", encoding = 'latin1', index_col = None, low_memory = False)\n",
    "FieldNames = dict(zip(data_dictionary['Variable'], data_dictionary['Field Name']))\n",
    "\n",
    "as_data.columns = as_data.columns.map(FieldNames)\n",
    "\n",
    "as_data.to_csv('/content/drive/MyDrive/NCDB-GBM/autoscore_data.csv')"
   ]
  },
  {
   "cell_type": "code",
   "execution_count": null,
   "id": "2289a865",
   "metadata": {
    "executionInfo": {
     "elapsed": 11,
     "status": "ok",
     "timestamp": 1696378708340,
     "user": {
      "displayName": "Mert Karabacak",
      "userId": "14308977132914475412"
     },
     "user_tz": 240
    },
    "id": "2289a865"
   },
   "outputs": [],
   "source": [
    "#Change variable names to field names.\n",
    "\n",
    "data.columns = data.columns.map(FieldNames)"
   ]
  },
  {
   "cell_type": "code",
   "execution_count": null,
   "id": "LtoT4R1bMGMR",
   "metadata": {
    "executionInfo": {
     "elapsed": 192,
     "status": "ok",
     "timestamp": 1696378708525,
     "user": {
      "displayName": "Mert Karabacak",
      "userId": "14308977132914475412"
     },
     "user_tz": 240
    },
    "id": "LtoT4R1bMGMR"
   },
   "outputs": [],
   "source": [
    "#Save final data.\n",
    "\n",
    "data.to_csv('/content/drive/MyDrive/NCDB-GBM/final_data.csv')"
   ]
  },
  {
   "cell_type": "code",
   "execution_count": null,
   "id": "c5490d9b",
   "metadata": {
    "executionInfo": {
     "elapsed": 474,
     "status": "ok",
     "timestamp": 1696378708992,
     "user": {
      "displayName": "Mert Karabacak",
      "userId": "14308977132914475412"
     },
     "user_tz": 240
    },
    "id": "c5490d9b"
   },
   "outputs": [],
   "source": [
    "#Save data for Gradio.\n",
    "\n",
    "gradio = data.copy()\n",
    "\n",
    "gradio.columns = gradio.columns.str.replace(' ', '_', regex=True)\n",
    "gradio.columns = gradio.columns.str.replace('-', '', regex=True)\n",
    "\n",
    "gradio.to_csv('/content/drive/MyDrive/NCDB-GBM/gradio_data.csv')"
   ]
  }
 ],
 "metadata": {
  "colab": {
   "machine_shape": "hm",
   "provenance": [
    {
     "file_id": "1e8Fpu-pe7O0EfheLaEzbnWzODzKTABOB",
     "timestamp": 1695310476362
    },
    {
     "file_id": "1ivwXHlUcLdC8WZQo6Q6hf-MYahSQ88lq",
     "timestamp": 1681082527584
    },
    {
     "file_id": "1qkdhVqVX240vYpWuEeJY_DKFacob5ztC",
     "timestamp": 1680800063857
    },
    {
     "file_id": "1ggfw-q5XTxdzPn9nnqb4pk7uxKjkpaga",
     "timestamp": 1672250375960
    },
    {
     "file_id": "1g8wyPIRJw1XKU7zF_T4SgLWpAzCOvEQJ",
     "timestamp": 1671643302648
    },
    {
     "file_id": "1Nau1T8kYhu_teXcKnDyTzUTVNIRcruHN",
     "timestamp": 1671032966766
    },
    {
     "file_id": "1fRg4CV3EaBnihAqddzIHeCaU4bmkgUi3",
     "timestamp": 1669913930106
    },
    {
     "file_id": "1AXH9JUz2PztvXr-hpN3EzKrUTEbGW2Si",
     "timestamp": 1669306790787
    }
   ]
  },
  "environment": {
   "kernel": "python3",
   "name": "common-cpu.m100",
   "type": "gcloud",
   "uri": "gcr.io/deeplearning-platform-release/base-cpu:m100"
  },
  "gpuClass": "standard",
  "kernelspec": {
   "display_name": "Python 3 (ipykernel)",
   "language": "python",
   "name": "python3"
  },
  "language_info": {
   "codemirror_mode": {
    "name": "ipython",
    "version": 3
   },
   "file_extension": ".py",
   "mimetype": "text/x-python",
   "name": "python",
   "nbconvert_exporter": "python",
   "pygments_lexer": "ipython3",
   "version": "3.9.6"
  }
 },
 "nbformat": 4,
 "nbformat_minor": 5
}
