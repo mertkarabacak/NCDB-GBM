{
 "cells": [
  {
   "cell_type": "code",
   "execution_count": null,
   "metadata": {
    "colab": {
     "base_uri": "https://localhost:8080/"
    },
    "executionInfo": {
     "elapsed": 1493,
     "status": "ok",
     "timestamp": 1695936800981,
     "user": {
      "displayName": "Mert Karabacak",
      "userId": "14308977132914475412"
     },
     "user_tz": 240
    },
    "id": "Zj_GWp1XCWlX",
    "outputId": "59147cf0-765f-4e72-893b-3171fa5f1e20"
   },
   "outputs": [],
   "source": [
    "from google.colab import drive\n",
    "drive.mount('/content/drive')"
   ]
  },
  {
   "cell_type": "code",
   "execution_count": null,
   "metadata": {
    "executionInfo": {
     "elapsed": 13,
     "status": "ok",
     "timestamp": 1695936800982,
     "user": {
      "displayName": "Mert Karabacak",
      "userId": "14308977132914475412"
     },
     "user_tz": 240
    },
    "id": "kZc_A5dgC0ei"
   },
   "outputs": [],
   "source": [
    "import numpy as np\n",
    "import pandas as pd"
   ]
  },
  {
   "cell_type": "code",
   "execution_count": null,
   "metadata": {
    "colab": {
     "base_uri": "https://localhost:8080/"
    },
    "executionInfo": {
     "elapsed": 8614,
     "status": "ok",
     "timestamp": 1695936809590,
     "user": {
      "displayName": "Mert Karabacak",
      "userId": "14308977132914475412"
     },
     "user_tz": 240
    },
    "id": "O0i9fTEoC2W1",
    "outputId": "48ee3960-d97a-43b1-f520-1424b4283d81"
   },
   "outputs": [],
   "source": [
    "#Open data file.\n",
    "\n",
    "data = pd.read_csv(\"/content/drive/MyDrive/NCDB-PUFs/Brain - 2020.csv\", index_col = None)\n",
    "data.shape"
   ]
  },
  {
   "cell_type": "code",
   "execution_count": null,
   "metadata": {
    "executionInfo": {
     "elapsed": 16,
     "status": "ok",
     "timestamp": 1695936809590,
     "user": {
      "displayName": "Mert Karabacak",
      "userId": "14308977132914475412"
     },
     "user_tz": 240
    },
    "id": "CuMk32G-uoi7"
   },
   "outputs": [],
   "source": [
    "pd.set_option('display.max_rows', None)"
   ]
  },
  {
   "cell_type": "code",
   "execution_count": null,
   "metadata": {
    "colab": {
     "base_uri": "https://localhost:8080/"
    },
    "executionInfo": {
     "elapsed": 10,
     "status": "ok",
     "timestamp": 1695936809591,
     "user": {
      "displayName": "Mert Karabacak",
      "userId": "14308977132914475412"
     },
     "user_tz": 240
    },
    "id": "7B5AIa-GueQQ",
    "outputId": "9173f337-d86b-477d-854b-350ca3a46495"
   },
   "outputs": [],
   "source": [
    "print(list(data.columns))"
   ]
  },
  {
   "cell_type": "code",
   "execution_count": null,
   "metadata": {
    "executionInfo": {
     "elapsed": 8,
     "status": "ok",
     "timestamp": 1695936809591,
     "user": {
      "displayName": "Mert Karabacak",
      "userId": "14308977132914475412"
     },
     "user_tz": 240
    },
    "id": "fNpvm7eJ7jE9"
   },
   "outputs": [],
   "source": [
    "#Define variables of interest.\n",
    "\n",
    "variables = ['BRAIN_MOL_MARKERS', 'DIAGNOSTIC_CONFIRMATION', 'YEAR_OF_DIAGNOSIS', 'AGE', 'SEX', 'RACE', 'SPANISH_HISPANIC_ORIGIN', 'INSURANCE_STATUS', 'FACILITY_TYPE_CD', 'FACILITY_LOCATION_CD', 'NO_HSD_QUAR_2016', 'MED_INC_QUAR_2016', 'UR_CD_13', 'CDCC_TOTAL_BEST', 'TUMOR_SIZE_SUMMARY_2016', 'METHYLATION_O6MGMT', 'RX_SUMM_SURG_PRIM_SITE', 'READM_HOSP_30_DAYS', 'SURG_DISCHARGE_DAYS', 'NUMBER_PHASES_RAD_RX', 'RX_SUMM_CHEMO', 'RX_SUMM_IMMUNOTHERAPY', 'DX_LASTCONTACT_DEATH_MONTHS', 'PUF_VITAL_STATUS']"
   ]
  },
  {
   "cell_type": "code",
   "execution_count": null,
   "metadata": {
    "colab": {
     "base_uri": "https://localhost:8080/"
    },
    "executionInfo": {
     "elapsed": 284,
     "status": "ok",
     "timestamp": 1695936809868,
     "user": {
      "displayName": "Mert Karabacak",
      "userId": "14308977132914475412"
     },
     "user_tz": 240
    },
    "id": "2wjUzYPS7qxa",
    "outputId": "362ab15e-71af-44fd-85f3-dfc3b70ed9ef"
   },
   "outputs": [],
   "source": [
    "#Remove unwanted columns and check data shape.\n",
    "\n",
    "data = data[variables]\n",
    "\n",
    "data.shape"
   ]
  },
  {
   "cell_type": "code",
   "execution_count": null,
   "metadata": {
    "colab": {
     "base_uri": "https://localhost:8080/"
    },
    "executionInfo": {
     "elapsed": 25,
     "status": "ok",
     "timestamp": 1695936809869,
     "user": {
      "displayName": "Mert Karabacak",
      "userId": "14308977132914475412"
     },
     "user_tz": 240
    },
    "id": "QBLdGVmVahQ_",
    "outputId": "f1caf2e6-29f5-403a-e629-2246d7e0b8f8"
   },
   "outputs": [],
   "source": [
    "#Identify GBMs with 'BRAIN_MOL_MARKERS'.\n",
    "\n",
    "data = data[(data['BRAIN_MOL_MARKERS'] == 5)]\n",
    "data = data.drop(['BRAIN_MOL_MARKERS'], axis=1)\n",
    "\n",
    "print('Number of included patients:', data.shape[0])"
   ]
  },
  {
   "cell_type": "code",
   "execution_count": null,
   "metadata": {
    "colab": {
     "base_uri": "https://localhost:8080/"
    },
    "executionInfo": {
     "elapsed": 20,
     "status": "ok",
     "timestamp": 1695936809869,
     "user": {
      "displayName": "Mert Karabacak",
      "userId": "14308977132914475412"
     },
     "user_tz": 240
    },
    "id": "96Kb7uwuhwWN",
    "outputId": "89110528-41f8-46a2-bc8a-3d0f0ba4b28f"
   },
   "outputs": [],
   "source": [
    "#Apply inclusion criteria for 'DIAGNOSTIC_CONFIRMATION'.\n",
    "\n",
    "data = data[(data['DIAGNOSTIC_CONFIRMATION'] == 1) | (data['DIAGNOSTIC_CONFIRMATION'] == 3)]\n",
    "data = data.drop(['DIAGNOSTIC_CONFIRMATION'], axis=1)\n",
    "\n",
    "print('Number of included patients:', data.shape[0])"
   ]
  },
  {
   "cell_type": "code",
   "execution_count": null,
   "metadata": {
    "colab": {
     "base_uri": "https://localhost:8080/"
    },
    "executionInfo": {
     "elapsed": 16,
     "status": "ok",
     "timestamp": 1695936809869,
     "user": {
      "displayName": "Mert Karabacak",
      "userId": "14308977132914475412"
     },
     "user_tz": 240
    },
    "id": "Mc2P2TCunylO",
    "outputId": "eaa18ba6-fb1f-497f-de83-7f8a48f40a06"
   },
   "outputs": [],
   "source": [
    "#Change response values for 'AGE'.\n",
    "\n",
    "data.loc[data['AGE'] == 000, 'AGE'] = 0\n",
    "data.loc[data['AGE'] == 999, 'AGE'] = np.nan\n",
    "\n",
    "data['AGE'].value_counts(normalize=False, dropna=False)"
   ]
  },
  {
   "cell_type": "code",
   "execution_count": null,
   "metadata": {
    "colab": {
     "base_uri": "https://localhost:8080/"
    },
    "executionInfo": {
     "elapsed": 13,
     "status": "ok",
     "timestamp": 1695936809869,
     "user": {
      "displayName": "Mert Karabacak",
      "userId": "14308977132914475412"
     },
     "user_tz": 240
    },
    "id": "cz0ZH8tOTNKI",
    "outputId": "dbca183f-a2ed-42f3-ec6e-83c91b701351"
   },
   "outputs": [],
   "source": [
    "#Apply inclusion criteria for age.\n",
    "\n",
    "data = data[data['AGE'] > 18]\n",
    "\n",
    "print('Number of included patients:', data.shape[0])"
   ]
  },
  {
   "cell_type": "code",
   "execution_count": null,
   "metadata": {
    "colab": {
     "base_uri": "https://localhost:8080/"
    },
    "executionInfo": {
     "elapsed": 9,
     "status": "ok",
     "timestamp": 1695936809869,
     "user": {
      "displayName": "Mert Karabacak",
      "userId": "14308977132914475412"
     },
     "user_tz": 240
    },
    "id": "puYmhi_Ic62t",
    "outputId": "37d446c6-07a4-4c85-b79d-92e8e6bc5362"
   },
   "outputs": [],
   "source": [
    "#Exclude patients with missing survival data.\n",
    "\n",
    "before = data.shape[0]\n",
    "data = data[data['DX_LASTCONTACT_DEATH_MONTHS'].notna()]\n",
    "data = data[data['PUF_VITAL_STATUS'].notna()]\n",
    "after = data.shape[0]\n",
    "\n",
    "excluded = before - after\n",
    "print('Number of patients before exclusion: ', before)\n",
    "print('Number of patients after exclusion: ', after)\n",
    "print('Number of patients excluded with this criteria: ', excluded)"
   ]
  },
  {
   "cell_type": "code",
   "execution_count": null,
   "metadata": {
    "executionInfo": {
     "elapsed": 6,
     "status": "ok",
     "timestamp": 1695936809869,
     "user": {
      "displayName": "Mert Karabacak",
      "userId": "14308977132914475412"
     },
     "user_tz": 240
    },
    "id": "FvV1MIAY7-cT"
   },
   "outputs": [],
   "source": [
    "#See the years of diagnosis for the included patients.\n",
    "\n",
    "data['YEAR_OF_DIAGNOSIS'].value_counts(normalize=False, dropna=False)\n",
    "data = data.drop(['YEAR_OF_DIAGNOSIS'], axis=1)"
   ]
  },
  {
   "cell_type": "code",
   "execution_count": null,
   "metadata": {
    "colab": {
     "base_uri": "https://localhost:8080/"
    },
    "executionInfo": {
     "elapsed": 17,
     "status": "ok",
     "timestamp": 1695936810060,
     "user": {
      "displayName": "Mert Karabacak",
      "userId": "14308977132914475412"
     },
     "user_tz": 240
    },
    "id": "n_OarmxnodZe",
    "outputId": "fba7f1f5-147f-4b32-c663-85fd117bf9db"
   },
   "outputs": [],
   "source": [
    "#Change response values to strings for 'SEX'.\n",
    "\n",
    "data.loc[data['SEX'] == 1, 'SEX'] = 'Male'\n",
    "data.loc[data['SEX'] == 2, 'SEX'] = 'Female'\n",
    "\n",
    "data['SEX'].value_counts(normalize=False, dropna=False)"
   ]
  },
  {
   "cell_type": "code",
   "execution_count": null,
   "metadata": {
    "colab": {
     "base_uri": "https://localhost:8080/"
    },
    "executionInfo": {
     "elapsed": 15,
     "status": "ok",
     "timestamp": 1695936810060,
     "user": {
      "displayName": "Mert Karabacak",
      "userId": "14308977132914475412"
     },
     "user_tz": 240
    },
    "id": "QzNQsZC2oxUK",
    "outputId": "b6d54082-785f-415a-b404-8d1c407ad503"
   },
   "outputs": [],
   "source": [
    "#Change response values to strings for 'RACE'.\n",
    "\n",
    "data.loc[data['RACE'] == 1, 'RACE'] = 'White'\n",
    "data.loc[data['RACE'] == 2, 'RACE'] = 'Black'\n",
    "data.loc[data['RACE'] == 3, 'RACE'] = 'American Indian, Aleutian, or Eskimo'\n",
    "data.loc[data['RACE'] == 4, 'RACE'] = 'Chinese'\n",
    "data.loc[data['RACE'] == 5, 'RACE'] = 'Japanese'\n",
    "data.loc[data['RACE'] == 6, 'RACE'] = 'Filipino'\n",
    "data.loc[data['RACE'] == 7, 'RACE'] = 'Hawaiian'\n",
    "data.loc[data['RACE'] == 8, 'RACE'] = 'Korean'\n",
    "data.loc[data['RACE'] == 10, 'RACE'] = 'Vietnamese'\n",
    "data.loc[data['RACE'] == 11, 'RACE'] = 'Laotian'\n",
    "data.loc[data['RACE'] == 12, 'RACE'] = 'Hmong'\n",
    "data.loc[data['RACE'] == 13, 'RACE'] = 'Kampuchean'\n",
    "data.loc[data['RACE'] == 14, 'RACE'] = 'Thai'\n",
    "data.loc[data['RACE'] == 15, 'RACE'] = 'Asian Indian or Pakistani'\n",
    "data.loc[data['RACE'] == 16, 'RACE'] = 'Asian Indian or Pakistani'\n",
    "data.loc[data['RACE'] == 17, 'RACE'] = 'Pakistani'\n",
    "data.loc[data['RACE'] == 20, 'RACE'] = 'Micronesian'\n",
    "data.loc[data['RACE'] == 21, 'RACE'] = 'Chamorro/Chamoru'\n",
    "data.loc[data['RACE'] == 22, 'RACE'] = 'Guamanian'\n",
    "data.loc[data['RACE'] == 25, 'RACE'] = 'Polynesian'\n",
    "data.loc[data['RACE'] == 26, 'RACE'] = 'Tahitian'\n",
    "data.loc[data['RACE'] == 27, 'RACE'] = 'Samoan'\n",
    "data.loc[data['RACE'] == 28, 'RACE'] = 'Tongan'\n",
    "data.loc[data['RACE'] == 30, 'RACE'] = 'Melanesian'\n",
    "data.loc[data['RACE'] == 31, 'RACE'] = 'Fiji Islander'\n",
    "data.loc[data['RACE'] == 32, 'RACE'] = 'New Guinean'\n",
    "data.loc[data['RACE'] == 96, 'RACE'] = 'Other'\n",
    "data.loc[data['RACE'] == 97, 'RACE'] = 'Pacific Islander'\n",
    "data.loc[data['RACE'] == 98, 'RACE'] = 'Other'\n",
    "data.loc[data['RACE'] == 99, 'RACE'] = np.nan\n",
    "\n",
    "data['RACE'].value_counts(normalize=False, dropna=False)"
   ]
  },
  {
   "cell_type": "code",
   "execution_count": null,
   "metadata": {
    "colab": {
     "base_uri": "https://localhost:8080/"
    },
    "executionInfo": {
     "elapsed": 11,
     "status": "ok",
     "timestamp": 1695936810060,
     "user": {
      "displayName": "Mert Karabacak",
      "userId": "14308977132914475412"
     },
     "user_tz": 240
    },
    "id": "CKTENp-Z4abN",
    "outputId": "7881c620-212b-4382-a04b-24ff60138835"
   },
   "outputs": [],
   "source": [
    "#Merge infrequent values (less than 100) to the value 'Other' for 'RACE'.\n",
    "\n",
    "race_counts = data['RACE'].value_counts(normalize=False, dropna=True)\n",
    "infrequent_categories = race_counts[race_counts < 100].index\n",
    "data['RACE'] = data['RACE'].apply(lambda x: 'Other' if x in infrequent_categories else x)\n",
    "\n",
    "data['RACE'].value_counts(normalize=False, dropna=False)"
   ]
  },
  {
   "cell_type": "code",
   "execution_count": null,
   "metadata": {
    "colab": {
     "base_uri": "https://localhost:8080/"
    },
    "executionInfo": {
     "elapsed": 8,
     "status": "ok",
     "timestamp": 1695936810060,
     "user": {
      "displayName": "Mert Karabacak",
      "userId": "14308977132914475412"
     },
     "user_tz": 240
    },
    "id": "ulNfpMAQptYB",
    "outputId": "fdc835fe-fa7b-464c-b8d0-672374fbd877"
   },
   "outputs": [],
   "source": [
    "#Change response values to strings for 'SPANISH_HISPANIC_ORIGIN'.\n",
    "\n",
    "data.loc[data['SPANISH_HISPANIC_ORIGIN'] == 0, 'SPANISH_HISPANIC_ORIGIN'] = 'Non-Spanish, non-Hispanic'\n",
    "data.loc[data['SPANISH_HISPANIC_ORIGIN'] == 1, 'SPANISH_HISPANIC_ORIGIN'] = 'Mexican/Chicano'\n",
    "data.loc[data['SPANISH_HISPANIC_ORIGIN'] == 2, 'SPANISH_HISPANIC_ORIGIN'] = 'Puerto Rican'\n",
    "data.loc[data['SPANISH_HISPANIC_ORIGIN'] == 3, 'SPANISH_HISPANIC_ORIGIN'] = 'Cuban'\n",
    "data.loc[data['SPANISH_HISPANIC_ORIGIN'] == 4, 'SPANISH_HISPANIC_ORIGIN'] = 'South or Central America'\n",
    "data.loc[data['SPANISH_HISPANIC_ORIGIN'] == 5, 'SPANISH_HISPANIC_ORIGIN'] = 'Other specified Spanish/Hispanic origin'\n",
    "data.loc[data['SPANISH_HISPANIC_ORIGIN'] == 6, 'SPANISH_HISPANIC_ORIGIN'] = 'Spanish, NOS Hispanic, NOS Latino, NOS'\n",
    "data.loc[data['SPANISH_HISPANIC_ORIGIN'] == 7, 'SPANISH_HISPANIC_ORIGIN'] = 'Spanish surname only'\n",
    "data.loc[data['SPANISH_HISPANIC_ORIGIN'] == 8, 'SPANISH_HISPANIC_ORIGIN'] = 'Dominican Republic'\n",
    "data.loc[data['SPANISH_HISPANIC_ORIGIN'] == 9, 'SPANISH_HISPANIC_ORIGIN'] = np.nan\n",
    "\n",
    "data['SPANISH_HISPANIC_ORIGIN'].value_counts(normalize=False, dropna=False)"
   ]
  },
  {
   "cell_type": "code",
   "execution_count": null,
   "metadata": {
    "colab": {
     "base_uri": "https://localhost:8080/"
    },
    "executionInfo": {
     "elapsed": 19,
     "status": "ok",
     "timestamp": 1695936810359,
     "user": {
      "displayName": "Mert Karabacak",
      "userId": "14308977132914475412"
     },
     "user_tz": 240
    },
    "id": "y3Bc_OrI5RHq",
    "outputId": "866a9247-b450-4c06-d579-74f204281a0f"
   },
   "outputs": [],
   "source": [
    "#Simplify response values for 'SPANISH_HISPANIC_ORIGIN'.\n",
    "\n",
    "spanish_hispanic_categories = ['Mexican/Chicano', 'Puerto Rican', 'Cuban', 'South or Central America', 'Other specified Spanish/Hispanic origin', 'Spanish, NOS Hispanic, NOS Latino, NOS', 'Dominican Republic']\n",
    "\n",
    "data['SPANISH_HISPANIC_ORIGIN'] = data['SPANISH_HISPANIC_ORIGIN'].apply(lambda x: 'Yes' if x in spanish_hispanic_categories else x)\n",
    "\n",
    "data.loc[data['SPANISH_HISPANIC_ORIGIN'] == 'Non-Spanish, non-Hispanic', 'SPANISH_HISPANIC_ORIGIN'] = 'No'\n",
    "data.loc[data['SPANISH_HISPANIC_ORIGIN'] == 'Spanish surname only', 'SPANISH_HISPANIC_ORIGIN'] = 'No'\n",
    "\n",
    "data['SPANISH_HISPANIC_ORIGIN'].value_counts(normalize=False, dropna=False)"
   ]
  },
  {
   "cell_type": "code",
   "execution_count": null,
   "metadata": {
    "colab": {
     "base_uri": "https://localhost:8080/"
    },
    "executionInfo": {
     "elapsed": 18,
     "status": "ok",
     "timestamp": 1695936810359,
     "user": {
      "displayName": "Mert Karabacak",
      "userId": "14308977132914475412"
     },
     "user_tz": 240
    },
    "id": "knk38Tbzp2t-",
    "outputId": "7f6280bf-ed15-4c32-acf1-a213741587e8"
   },
   "outputs": [],
   "source": [
    "#Change response values to strings for 'INSURANCE_STATUS'.\n",
    "\n",
    "data.loc[data['INSURANCE_STATUS'] == 0, 'INSURANCE_STATUS'] = 'Not insured'\n",
    "data.loc[data['INSURANCE_STATUS'] == 1, 'INSURANCE_STATUS'] = 'Private insurance'\n",
    "data.loc[data['INSURANCE_STATUS'] == 2, 'INSURANCE_STATUS'] = 'Medicaid'\n",
    "data.loc[data['INSURANCE_STATUS'] == 3, 'INSURANCE_STATUS'] = 'Medicare'\n",
    "data.loc[data['INSURANCE_STATUS'] == 4, 'INSURANCE_STATUS'] = 'Other government'\n",
    "data.loc[data['INSURANCE_STATUS'] == 9, 'INSURANCE_STATUS'] = np.nan\n",
    "\n",
    "data['INSURANCE_STATUS'].value_counts(normalize=False, dropna=False)"
   ]
  },
  {
   "cell_type": "code",
   "execution_count": null,
   "metadata": {
    "colab": {
     "base_uri": "https://localhost:8080/"
    },
    "executionInfo": {
     "elapsed": 14,
     "status": "ok",
     "timestamp": 1695936810359,
     "user": {
      "displayName": "Mert Karabacak",
      "userId": "14308977132914475412"
     },
     "user_tz": 240
    },
    "id": "XBrJaraFnRH1",
    "outputId": "03a50925-fd7a-4052-fbef-ce62ac13a35d"
   },
   "outputs": [],
   "source": [
    "#Change response values to strings for 'FACILITY_TYPE_CD'.\n",
    "\n",
    "data.loc[data['FACILITY_TYPE_CD'] == 1, 'FACILITY_TYPE_CD'] = 'Community Cancer Program'\n",
    "data.loc[data['FACILITY_TYPE_CD'] == 2, 'FACILITY_TYPE_CD'] = 'Comprehensive Community Cancer Program'\n",
    "data.loc[data['FACILITY_TYPE_CD'] == 3, 'FACILITY_TYPE_CD'] = 'Academic/Research Program'\n",
    "data.loc[data['FACILITY_TYPE_CD'] == 4, 'FACILITY_TYPE_CD'] = 'Integrated Network Cancer Program'\n",
    "\n",
    "data['FACILITY_TYPE_CD'].value_counts(normalize=False, dropna=False)"
   ]
  },
  {
   "cell_type": "code",
   "execution_count": null,
   "metadata": {
    "colab": {
     "base_uri": "https://localhost:8080/"
    },
    "executionInfo": {
     "elapsed": 11,
     "status": "ok",
     "timestamp": 1695936810359,
     "user": {
      "displayName": "Mert Karabacak",
      "userId": "14308977132914475412"
     },
     "user_tz": 240
    },
    "id": "B4tG0Bfa-rcf",
    "outputId": "704d0bb7-415c-4816-9afa-8941260c9c9e"
   },
   "outputs": [],
   "source": [
    "#Simplify 'FACILITY_TYPE_CD'.\n",
    "\n",
    "data.loc[data['FACILITY_TYPE_CD'] == 'Comprehensive Community Cancer Program', 'FACILITY_TYPE_CD'] = 'Community Cancer Program'\n",
    "\n",
    "data['FACILITY_TYPE_CD'].value_counts(normalize=False, dropna=False)"
   ]
  },
  {
   "cell_type": "code",
   "execution_count": null,
   "metadata": {
    "colab": {
     "base_uri": "https://localhost:8080/"
    },
    "executionInfo": {
     "elapsed": 8,
     "status": "ok",
     "timestamp": 1695936810359,
     "user": {
      "displayName": "Mert Karabacak",
      "userId": "14308977132914475412"
     },
     "user_tz": 240
    },
    "id": "nM54F4umnge9",
    "outputId": "8648b5a1-26fd-4f33-c2d1-3cdd96af386f"
   },
   "outputs": [],
   "source": [
    "#Change response values to strings for 'FACILITY_LOCATION_CD'.\n",
    "\n",
    "data.loc[data['FACILITY_LOCATION_CD'] == 1, 'FACILITY_LOCATION_CD'] = 'New England'\n",
    "data.loc[data['FACILITY_LOCATION_CD'] == 2, 'FACILITY_LOCATION_CD'] = 'Middle Atlantic'\n",
    "data.loc[data['FACILITY_LOCATION_CD'] == 3, 'FACILITY_LOCATION_CD'] = 'South Atlantic'\n",
    "data.loc[data['FACILITY_LOCATION_CD'] == 4, 'FACILITY_LOCATION_CD'] = 'East North Central'\n",
    "data.loc[data['FACILITY_LOCATION_CD'] == 5, 'FACILITY_LOCATION_CD'] = 'East South Central'\n",
    "data.loc[data['FACILITY_LOCATION_CD'] == 6, 'FACILITY_LOCATION_CD'] = 'West North Central'\n",
    "data.loc[data['FACILITY_LOCATION_CD'] == 7, 'FACILITY_LOCATION_CD'] = 'West South Central'\n",
    "data.loc[data['FACILITY_LOCATION_CD'] == 8, 'FACILITY_LOCATION_CD'] = 'Mountain'\n",
    "data.loc[data['FACILITY_LOCATION_CD'] == 9, 'FACILITY_LOCATION_CD'] = 'Pacific'\n",
    "\n",
    "data['FACILITY_LOCATION_CD'].value_counts(normalize=False, dropna=False)"
   ]
  },
  {
   "cell_type": "code",
   "execution_count": null,
   "metadata": {
    "colab": {
     "base_uri": "https://localhost:8080/"
    },
    "executionInfo": {
     "elapsed": 283,
     "status": "ok",
     "timestamp": 1695936810636,
     "user": {
      "displayName": "Mert Karabacak",
      "userId": "14308977132914475412"
     },
     "user_tz": 240
    },
    "id": "UYdNoAMU-ilx",
    "outputId": "fc90c25d-5469-4055-b42b-f06f5dedbf42"
   },
   "outputs": [],
   "source": [
    "#Simplify 'FACILITY_LOCATION_CD'.\n",
    "\n",
    "data.loc[data['FACILITY_LOCATION_CD'] == 'Middle Atlantic', 'FACILITY_LOCATION_CD'] = 'Atlantic'\n",
    "data.loc[data['FACILITY_LOCATION_CD'] == 'South Atlantic', 'FACILITY_LOCATION_CD'] = 'Atlantic'\n",
    "data.loc[data['FACILITY_LOCATION_CD'] == 'East North Central', 'FACILITY_LOCATION_CD'] = 'Central'\n",
    "data.loc[data['FACILITY_LOCATION_CD'] == 'East South Central', 'FACILITY_LOCATION_CD'] = 'Central'\n",
    "data.loc[data['FACILITY_LOCATION_CD'] == 'West North Central', 'FACILITY_LOCATION_CD'] = 'Central'\n",
    "data.loc[data['FACILITY_LOCATION_CD'] == 'West South Central', 'FACILITY_LOCATION_CD'] = 'Central'\n",
    "\n",
    "data['FACILITY_LOCATION_CD'].value_counts(normalize=False, dropna=False)"
   ]
  },
  {
   "cell_type": "code",
   "execution_count": null,
   "metadata": {
    "colab": {
     "base_uri": "https://localhost:8080/"
    },
    "executionInfo": {
     "elapsed": 34,
     "status": "ok",
     "timestamp": 1695936810636,
     "user": {
      "displayName": "Mert Karabacak",
      "userId": "14308977132914475412"
     },
     "user_tz": 240
    },
    "id": "jAxu73GJ7VCZ",
    "outputId": "879f75e7-b53d-4a1c-d8da-02f23277f03f"
   },
   "outputs": [],
   "source": [
    "#Change response values to strings for 'NO_HSD_QUAR_2016'.\n",
    "\n",
    "data.loc[data['NO_HSD_QUAR_2016'] == 1, 'NO_HSD_QUAR_2016'] = '> 17.6%'\n",
    "data.loc[data['NO_HSD_QUAR_2016'] == 2, 'NO_HSD_QUAR_2016'] = '10.9-17.6%'\n",
    "data.loc[data['NO_HSD_QUAR_2016'] == 3, 'NO_HSD_QUAR_2016'] = '6.3-10.8%'\n",
    "data.loc[data['NO_HSD_QUAR_2016'] == 4, 'NO_HSD_QUAR_2016'] = '< 6.3%'\n",
    "\n",
    "data['NO_HSD_QUAR_2016'].value_counts(normalize=False, dropna=False)"
   ]
  },
  {
   "cell_type": "code",
   "execution_count": null,
   "metadata": {
    "colab": {
     "base_uri": "https://localhost:8080/"
    },
    "executionInfo": {
     "elapsed": 29,
     "status": "ok",
     "timestamp": 1695936810636,
     "user": {
      "displayName": "Mert Karabacak",
      "userId": "14308977132914475412"
     },
     "user_tz": 240
    },
    "id": "-a3S4Rvb7Zq7",
    "outputId": "cab7fa67-ccc2-4309-83fb-2ac2370b6dd3"
   },
   "outputs": [],
   "source": [
    "#Change response values to strings for 'MED_INC_QUAR_2016'.\n",
    "\n",
    "data.loc[data['MED_INC_QUAR_2016'] == 1, 'MED_INC_QUAR_2016'] = '< $40,227'\n",
    "data.loc[data['MED_INC_QUAR_2016'] == 2, 'MED_INC_QUAR_2016'] = '$40,227-$50,353'\n",
    "data.loc[data['MED_INC_QUAR_2016'] == 3, 'MED_INC_QUAR_2016'] = '$50,354-$63,333'\n",
    "data.loc[data['MED_INC_QUAR_2016'] == 4, 'MED_INC_QUAR_2016'] = '> $63,333'\n",
    "\n",
    "data['MED_INC_QUAR_2016'].value_counts(normalize=False, dropna=False)"
   ]
  },
  {
   "cell_type": "code",
   "execution_count": null,
   "metadata": {
    "colab": {
     "base_uri": "https://localhost:8080/"
    },
    "executionInfo": {
     "elapsed": 25,
     "status": "ok",
     "timestamp": 1695936810636,
     "user": {
      "displayName": "Mert Karabacak",
      "userId": "14308977132914475412"
     },
     "user_tz": 240
    },
    "id": "bo9pVlozqpub",
    "outputId": "577296b9-8d54-43aa-9f04-01044c06c0c7"
   },
   "outputs": [],
   "source": [
    "#Change response values to strings for 'UR_CD_13'.\n",
    "\n",
    "data.loc[data['UR_CD_13'] == 1, 'UR_CD_13'] = 'Counties in metro areas of 1 million population or more'\n",
    "data.loc[data['UR_CD_13'] == 2, 'UR_CD_13'] = 'Counties in metro areas of 250,000 to 1 million population'\n",
    "data.loc[data['UR_CD_13'] == 3, 'UR_CD_13'] = 'Counties in metro areas of fewer than 250,000 population'\n",
    "data.loc[data['UR_CD_13'] == 4, 'UR_CD_13'] = 'Urban population of 20,000 or more adjacent to a metro area'\n",
    "data.loc[data['UR_CD_13'] == 5, 'UR_CD_13'] = 'Urban population of 20,000 or more not adjacent to a metro area'\n",
    "data.loc[data['UR_CD_13'] == 6, 'UR_CD_13'] = 'Urban population of 2,500 to 19,999, adjacent to a metro area'\n",
    "data.loc[data['UR_CD_13'] == 7, 'UR_CD_13'] = 'Urban population of 2,500 to 19,999, not adjacent to a metro area'\n",
    "data.loc[data['UR_CD_13'] == 8, 'UR_CD_13'] = 'Completely rural or less than 2,500 urban population, adjacent to a metro area'\n",
    "data.loc[data['UR_CD_13'] == 9, 'UR_CD_13'] = 'Completely rural or less than 2,500 urban population, not adjacent to a metro area'\n",
    "\n",
    "data['UR_CD_13'].value_counts(normalize=False, dropna=False)"
   ]
  },
  {
   "cell_type": "code",
   "execution_count": null,
   "metadata": {
    "colab": {
     "base_uri": "https://localhost:8080/"
    },
    "executionInfo": {
     "elapsed": 22,
     "status": "ok",
     "timestamp": 1695936810636,
     "user": {
      "displayName": "Mert Karabacak",
      "userId": "14308977132914475412"
     },
     "user_tz": 240
    },
    "id": "Kz1y0n7c9MPp",
    "outputId": "12d58415-994e-4b46-e1a5-09eb348940b8"
   },
   "outputs": [],
   "source": [
    "#Simplify 'UR_CD_13'.\n",
    "\n",
    "data.loc[data['UR_CD_13'] == 'Counties in metro areas of 1 million population or more', 'UR_CD_13'] = 'Metro'\n",
    "data.loc[data['UR_CD_13'] == 'Counties in metro areas of 250,000 to 1 million population', 'UR_CD_13'] = 'Metro'\n",
    "data.loc[data['UR_CD_13'] == 'Counties in metro areas of fewer than 250,000 population', 'UR_CD_13'] = 'Metro'\n",
    "data.loc[data['UR_CD_13'] == 'Urban population of 20,000 or more adjacent to a metro area', 'UR_CD_13'] = 'Urban'\n",
    "data.loc[data['UR_CD_13'] == 'Urban population of 20,000 or more not adjacent to a metro area', 'UR_CD_13'] = 'Urban'\n",
    "data.loc[data['UR_CD_13'] == 'Urban population of 2,500 to 19,999, adjacent to a metro area', 'UR_CD_13'] = 'Urban'\n",
    "data.loc[data['UR_CD_13'] == 'Urban population of 2,500 to 19,999, not adjacent to a metro area', 'UR_CD_13'] = 'Urban'\n",
    "data.loc[data['UR_CD_13'] == 'Completely rural or less than 2,500 urban population, adjacent to a metro area', 'UR_CD_13'] = 'Rural'\n",
    "data.loc[data['UR_CD_13'] == 'Completely rural or less than 2,500 urban population, not adjacent to a metro area', 'UR_CD_13'] = 'Rural'\n",
    "\n",
    "data['UR_CD_13'].value_counts(normalize=False, dropna=False)"
   ]
  },
  {
   "cell_type": "code",
   "execution_count": null,
   "metadata": {
    "colab": {
     "base_uri": "https://localhost:8080/"
    },
    "executionInfo": {
     "elapsed": 19,
     "status": "ok",
     "timestamp": 1695936810636,
     "user": {
      "displayName": "Mert Karabacak",
      "userId": "14308977132914475412"
     },
     "user_tz": 240
    },
    "id": "s2wbKHP2rZZT",
    "outputId": "d106dfd7-d126-45d8-c571-961d6831dc78"
   },
   "outputs": [],
   "source": [
    "#Change response values to strings for 'CDCC_TOTAL_BEST'.\n",
    "\n",
    "data.loc[data['CDCC_TOTAL_BEST'] == 0, 'CDCC_TOTAL_BEST'] = '0'\n",
    "data.loc[data['CDCC_TOTAL_BEST'] == 1, 'CDCC_TOTAL_BEST'] = '1'\n",
    "data.loc[data['CDCC_TOTAL_BEST'] == 2, 'CDCC_TOTAL_BEST'] = '2'\n",
    "data.loc[data['CDCC_TOTAL_BEST'] == 3, 'CDCC_TOTAL_BEST'] = 'Greater than 3'\n",
    "\n",
    "data['CDCC_TOTAL_BEST'].value_counts(normalize=False, dropna=False)"
   ]
  },
  {
   "cell_type": "code",
   "execution_count": null,
   "metadata": {
    "colab": {
     "base_uri": "https://localhost:8080/"
    },
    "executionInfo": {
     "elapsed": 18,
     "status": "ok",
     "timestamp": 1695936810637,
     "user": {
      "displayName": "Mert Karabacak",
      "userId": "14308977132914475412"
     },
     "user_tz": 240
    },
    "id": "aiJUpdTSrpV_",
    "outputId": "b3432a2d-464a-40ec-9817-bdd66105ea19"
   },
   "outputs": [],
   "source": [
    "#Simplify 'CDCC_TOTAL_BEST'.\n",
    "\n",
    "data.loc[data['CDCC_TOTAL_BEST'] == '0', 'CDCC_TOTAL_BEST'] = '0'\n",
    "data.loc[data['CDCC_TOTAL_BEST'] == '1', 'CDCC_TOTAL_BEST'] = '1'\n",
    "data.loc[data['CDCC_TOTAL_BEST'] == '2', 'CDCC_TOTAL_BEST'] = '>2'\n",
    "data.loc[data['CDCC_TOTAL_BEST'] == 'Greater than 3', 'CDCC_TOTAL_BEST'] = '>2'\n",
    "\n",
    "data['CDCC_TOTAL_BEST'].value_counts(normalize=False, dropna=False)"
   ]
  },
  {
   "cell_type": "code",
   "execution_count": null,
   "metadata": {
    "colab": {
     "base_uri": "https://localhost:8080/"
    },
    "executionInfo": {
     "elapsed": 16,
     "status": "ok",
     "timestamp": 1695936810637,
     "user": {
      "displayName": "Mert Karabacak",
      "userId": "14308977132914475412"
     },
     "user_tz": 240
    },
    "id": "2KShMgwXiON4",
    "outputId": "df72be64-54f3-4c39-c3c1-7c794fa06977"
   },
   "outputs": [],
   "source": [
    "#Change response values to strings for TUMOR_SIZE_SUMMARY_2016.\n",
    "\n",
    "data.loc[data['TUMOR_SIZE_SUMMARY_2016'] == 000, 'TUMOR_SIZE_SUMMARY_2016'] = np.nan\n",
    "data.loc[data['TUMOR_SIZE_SUMMARY_2016'] >= 200, 'TUMOR_SIZE_SUMMARY_2016'] = np.nan\n",
    "\n",
    "data['TUMOR_SIZE_SUMMARY_2016'].value_counts(normalize=False, dropna=False)"
   ]
  },
  {
   "cell_type": "code",
   "execution_count": null,
   "metadata": {
    "colab": {
     "base_uri": "https://localhost:8080/"
    },
    "executionInfo": {
     "elapsed": 13,
     "status": "ok",
     "timestamp": 1695936810637,
     "user": {
      "displayName": "Mert Karabacak",
      "userId": "14308977132914475412"
     },
     "user_tz": 240
    },
    "id": "t4TeFo94hd03",
    "outputId": "c1007210-1097-44a8-cf45-8db5a839ec48"
   },
   "outputs": [],
   "source": [
    "#Change response values to strings for 'METHYLATION_O6MGMT'.\n",
    "\n",
    "data.loc[data['METHYLATION_O6MGMT'] == 0, 'METHYLATION_O6MGMT'] = 'Unmethylated'\n",
    "data.loc[data['METHYLATION_O6MGMT'] == 1, 'METHYLATION_O6MGMT'] = 'Methylated'\n",
    "data.loc[data['METHYLATION_O6MGMT'] == 2, 'METHYLATION_O6MGMT'] = 'Methylated'\n",
    "data.loc[data['METHYLATION_O6MGMT'] == 3, 'METHYLATION_O6MGMT'] = 'Methylated'\n",
    "data.loc[data['METHYLATION_O6MGMT'] == 6, 'METHYLATION_O6MGMT'] = np.nan\n",
    "data.loc[data['METHYLATION_O6MGMT'] == 7, 'METHYLATION_O6MGMT'] = np.nan\n",
    "data.loc[data['METHYLATION_O6MGMT'] == 8, 'METHYLATION_O6MGMT'] = np.nan\n",
    "data.loc[data['METHYLATION_O6MGMT'] == 9, 'METHYLATION_O6MGMT'] = np.nan\n",
    "\n",
    "data['METHYLATION_O6MGMT'].value_counts(normalize=False, dropna=False)"
   ]
  },
  {
   "cell_type": "code",
   "execution_count": null,
   "metadata": {
    "colab": {
     "base_uri": "https://localhost:8080/"
    },
    "executionInfo": {
     "elapsed": 10,
     "status": "ok",
     "timestamp": 1695936810637,
     "user": {
      "displayName": "Mert Karabacak",
      "userId": "14308977132914475412"
     },
     "user_tz": 240
    },
    "id": "UaMewAEtjRzN",
    "outputId": "d6982c16-78ea-4035-88d0-5bb380e66b30"
   },
   "outputs": [],
   "source": [
    "#Change response values to strings for 'RX_SUMM_SURG_PRIM_SITE'.\n",
    "\n",
    "data.loc[data['RX_SUMM_SURG_PRIM_SITE'] == 0, 'RX_SUMM_SURG_PRIM_SITE'] = 'No surgery was performed'\n",
    "data.loc[data['RX_SUMM_SURG_PRIM_SITE'] == 10, 'RX_SUMM_SURG_PRIM_SITE'] = 'Tumor destruction'\n",
    "data.loc[data['RX_SUMM_SURG_PRIM_SITE'] == 20, 'RX_SUMM_SURG_PRIM_SITE'] = 'Biopsy'\n",
    "data.loc[data['RX_SUMM_SURG_PRIM_SITE'] == 21, 'RX_SUMM_SURG_PRIM_SITE'] = 'Subtotal resection'\n",
    "data.loc[data['RX_SUMM_SURG_PRIM_SITE'] == 22, 'RX_SUMM_SURG_PRIM_SITE'] = 'Resection of tumor of spinal cord or nerve'\n",
    "data.loc[data['RX_SUMM_SURG_PRIM_SITE'] == 30, 'RX_SUMM_SURG_PRIM_SITE'] = 'Gross total resection'\n",
    "data.loc[data['RX_SUMM_SURG_PRIM_SITE'] == 40, 'RX_SUMM_SURG_PRIM_SITE'] = 'Partial lobectomy'\n",
    "data.loc[data['RX_SUMM_SURG_PRIM_SITE'] == 55, 'RX_SUMM_SURG_PRIM_SITE'] = 'Lobectomy'\n",
    "data.loc[data['RX_SUMM_SURG_PRIM_SITE'] == 90, 'RX_SUMM_SURG_PRIM_SITE'] = 'Surgery was performed but extent of resection is unknown'\n",
    "data.loc[data['RX_SUMM_SURG_PRIM_SITE'] == 99, 'RX_SUMM_SURG_PRIM_SITE'] = np.nan\n",
    "\n",
    "data['RX_SUMM_SURG_PRIM_SITE'].value_counts(normalize=False, dropna=False)"
   ]
  },
  {
   "cell_type": "code",
   "execution_count": null,
   "metadata": {
    "colab": {
     "base_uri": "https://localhost:8080/"
    },
    "executionInfo": {
     "elapsed": 8,
     "status": "ok",
     "timestamp": 1695936810637,
     "user": {
      "displayName": "Mert Karabacak",
      "userId": "14308977132914475412"
     },
     "user_tz": 240
    },
    "id": "rZJ5A1Qi3VhI",
    "outputId": "48e4c070-e857-49fe-86bc-f6400bc19b1b"
   },
   "outputs": [],
   "source": [
    "#Simplify 'RX_SUMM_SURG_PRIM_SITE'.\n",
    "\n",
    "data.loc[data['RX_SUMM_SURG_PRIM_SITE'] == 'No surgery was performed', 'RX_SUMM_SURG_PRIM_SITE'] = 'No resective surgery was performed'\n",
    "data.loc[data['RX_SUMM_SURG_PRIM_SITE'] == 'Tumor destruction', 'RX_SUMM_SURG_PRIM_SITE'] = np.nan\n",
    "data.loc[data['RX_SUMM_SURG_PRIM_SITE'] == 'Biopsy', 'RX_SUMM_SURG_PRIM_SITE'] = 'No resective surgery was performed'\n",
    "data.loc[data['RX_SUMM_SURG_PRIM_SITE'] == 'Subtotal resection', 'RX_SUMM_SURG_PRIM_SITE'] = 'Subtotal resection'\n",
    "data.loc[data['RX_SUMM_SURG_PRIM_SITE'] == 'Resection of tumor of spinal cord or nerve', 'RX_SUMM_SURG_PRIM_SITE'] = np.nan\n",
    "data.loc[data['RX_SUMM_SURG_PRIM_SITE'] == 'Gross total resection', 'RX_SUMM_SURG_PRIM_SITE'] = 'Gross total resection'\n",
    "data.loc[data['RX_SUMM_SURG_PRIM_SITE'] == 'Partial lobectomy', 'RX_SUMM_SURG_PRIM_SITE'] = np.nan\n",
    "data.loc[data['RX_SUMM_SURG_PRIM_SITE'] == 'Lobectomy', 'RX_SUMM_SURG_PRIM_SITE'] = np.nan\n",
    "data.loc[data['RX_SUMM_SURG_PRIM_SITE'] == 'Surgery was performed but extent of resection is unknown', 'RX_SUMM_SURG_PRIM_SITE'] = np.nan\n",
    "\n",
    "data['RX_SUMM_SURG_PRIM_SITE'].value_counts(normalize=False, dropna=False)"
   ]
  },
  {
   "cell_type": "code",
   "execution_count": null,
   "metadata": {
    "colab": {
     "base_uri": "https://localhost:8080/"
    },
    "executionInfo": {
     "elapsed": 446,
     "status": "ok",
     "timestamp": 1695936811077,
     "user": {
      "displayName": "Mert Karabacak",
      "userId": "14308977132914475412"
     },
     "user_tz": 240
    },
    "id": "rXz5OevnySje",
    "outputId": "6bb03b94-ac9a-4ea6-cfa9-51a3e97a2620"
   },
   "outputs": [],
   "source": [
    "#Replace response values with descriptive strings for 'READM_HOSP_30_DAYS'.\n",
    "\n",
    "data.loc[data['READM_HOSP_30_DAYS'] == 0, 'READM_HOSP_30_DAYS'] = 'No surgery was performed or the patient was not readmitted'\n",
    "data.loc[data['READM_HOSP_30_DAYS'] == 1, 'READM_HOSP_30_DAYS'] = 'Unplanned readmission within 30 days of discharge'\n",
    "data.loc[data['READM_HOSP_30_DAYS'] == 2, 'READM_HOSP_30_DAYS'] = 'Planned readmission within 30 days of discharge'\n",
    "data.loc[data['READM_HOSP_30_DAYS'] == 3, 'READM_HOSP_30_DAYS'] = 'Both planned and unplanned readmissions within 30 days of discharge'\n",
    "data.loc[data['READM_HOSP_30_DAYS'] == 9, 'READM_HOSP_30_DAYS'] = np.nan\n",
    "\n",
    "data['READM_HOSP_30_DAYS'].value_counts(normalize=False, dropna=False)"
   ]
  },
  {
   "cell_type": "code",
   "execution_count": null,
   "metadata": {
    "colab": {
     "base_uri": "https://localhost:8080/"
    },
    "executionInfo": {
     "elapsed": 22,
     "status": "ok",
     "timestamp": 1695936811077,
     "user": {
      "displayName": "Mert Karabacak",
      "userId": "14308977132914475412"
     },
     "user_tz": 240
    },
    "id": "QOqKSh2o64VX",
    "outputId": "3468fcc8-35bc-41b5-d1d2-b568708d7132"
   },
   "outputs": [],
   "source": [
    "#Simplify 'READM_HOSP_30_DAYS'.\n",
    "\n",
    "data.loc[data['RX_SUMM_SURG_PRIM_SITE'] == 'No resective surgery was performed', 'READM_HOSP_30_DAYS'] = 'No surgery was performed'\n",
    "data.loc[data['READM_HOSP_30_DAYS'] == 'No surgery was performed or the patient was not readmitted', 'READM_HOSP_30_DAYS'] = 'No'\n",
    "data.loc[data['READM_HOSP_30_DAYS'] == 'Unplanned readmission within 30 days of discharge', 'READM_HOSP_30_DAYS'] = 'Yes'\n",
    "data.loc[data['READM_HOSP_30_DAYS'] == 'Planned readmission within 30 days of discharge', 'READM_HOSP_30_DAYS'] = 'No'\n",
    "data.loc[data['READM_HOSP_30_DAYS'] == 'Both planned and unplanned readmissions within 30 days of discharge', 'READM_HOSP_30_DAYS'] = 'Yes'\n",
    "\n",
    "data['READM_HOSP_30_DAYS'].value_counts(normalize=False, dropna=False)"
   ]
  },
  {
   "cell_type": "code",
   "execution_count": null,
   "metadata": {
    "colab": {
     "base_uri": "https://localhost:8080/"
    },
    "executionInfo": {
     "elapsed": 18,
     "status": "ok",
     "timestamp": 1695936811077,
     "user": {
      "displayName": "Mert Karabacak",
      "userId": "14308977132914475412"
     },
     "user_tz": 240
    },
    "id": "3RYznIpo3vdZ",
    "outputId": "4fda61e9-3cf1-4b06-9944-9d0dce1912f4"
   },
   "outputs": [],
   "source": [
    "#See lengths of stay after surgery.\n",
    "\n",
    "data['SURG_DISCHARGE_DAYS'].value_counts(normalize=False, dropna=False)"
   ]
  },
  {
   "cell_type": "code",
   "execution_count": null,
   "metadata": {
    "colab": {
     "base_uri": "https://localhost:8080/"
    },
    "executionInfo": {
     "elapsed": 15,
     "status": "ok",
     "timestamp": 1695936811077,
     "user": {
      "displayName": "Mert Karabacak",
      "userId": "14308977132914475412"
     },
     "user_tz": 240
    },
    "id": "b-2QLw4cBmR8",
    "outputId": "76e199be-3d16-49fd-f5b1-da55a13ffa50"
   },
   "outputs": [],
   "source": [
    "#Change response values to strings for 'NUMBER_PHASES_RAD_RX'.\n",
    "\n",
    "data.loc[data['NUMBER_PHASES_RAD_RX'] == 0, 'NUMBER_PHASES_RAD_RX'] = 'No Radiotherapy'\n",
    "data.loc[data['NUMBER_PHASES_RAD_RX'] == 1, 'NUMBER_PHASES_RAD_RX'] = '1 Phase'\n",
    "data.loc[data['NUMBER_PHASES_RAD_RX'] == 2, 'NUMBER_PHASES_RAD_RX'] = '2 Phases'\n",
    "data.loc[data['NUMBER_PHASES_RAD_RX'] == 3, 'NUMBER_PHASES_RAD_RX'] = '3 Phases'\n",
    "data.loc[data['NUMBER_PHASES_RAD_RX'] == 4, 'NUMBER_PHASES_RAD_RX'] = '4 or more Phases'\n",
    "data.loc[data['NUMBER_PHASES_RAD_RX'] == 99, 'NUMBER_PHASES_RAD_RX'] = np.nan\n",
    "\n",
    "data['NUMBER_PHASES_RAD_RX'].value_counts(normalize=False, dropna=False)"
   ]
  },
  {
   "cell_type": "code",
   "execution_count": null,
   "metadata": {
    "colab": {
     "base_uri": "https://localhost:8080/"
    },
    "executionInfo": {
     "elapsed": 12,
     "status": "ok",
     "timestamp": 1695936811077,
     "user": {
      "displayName": "Mert Karabacak",
      "userId": "14308977132914475412"
     },
     "user_tz": 240
    },
    "id": "u2tabM3a7J1w",
    "outputId": "ff2c9ad9-13de-4f2a-e164-d02a36d97415"
   },
   "outputs": [],
   "source": [
    "#Simplify 'NUMBER_PHASES_RAD_RX'.\n",
    "\n",
    "data.loc[data['NUMBER_PHASES_RAD_RX'] == 'No Radiotherapy', 'NUMBER_PHASES_RAD_RX'] = 'No'\n",
    "data.loc[data['NUMBER_PHASES_RAD_RX'] == '1 Phase', 'NUMBER_PHASES_RAD_RX'] = 'Yes'\n",
    "data.loc[data['NUMBER_PHASES_RAD_RX'] == '2 Phases', 'NUMBER_PHASES_RAD_RX'] = 'Yes'\n",
    "data.loc[data['NUMBER_PHASES_RAD_RX'] == '3 Phases', 'NUMBER_PHASES_RAD_RX'] = 'Yes'\n",
    "data.loc[data['NUMBER_PHASES_RAD_RX'] == '4 or more Phases', 'NUMBER_PHASES_RAD_RX'] = 'Yes'\n",
    "\n",
    "data['NUMBER_PHASES_RAD_RX'].value_counts(normalize=False, dropna=False)"
   ]
  },
  {
   "cell_type": "code",
   "execution_count": null,
   "metadata": {
    "colab": {
     "base_uri": "https://localhost:8080/"
    },
    "executionInfo": {
     "elapsed": 10,
     "status": "ok",
     "timestamp": 1695936811077,
     "user": {
      "displayName": "Mert Karabacak",
      "userId": "14308977132914475412"
     },
     "user_tz": 240
    },
    "id": "PPhGbNIEzNt0",
    "outputId": "90cd8762-6adc-45fe-ddc8-194a93d6c9c8"
   },
   "outputs": [],
   "source": [
    "#Replace response values with descriptive strings for 'RX_SUMM_CHEMO'.\n",
    "\n",
    "data.loc[data['RX_SUMM_CHEMO'] == 0, 'RX_SUMM_CHEMO'] = 'None, chemotherapy was not part of the planned first course of therapy'\n",
    "data.loc[data['RX_SUMM_CHEMO'] == 1, 'RX_SUMM_CHEMO'] = 'Chemotherapy administered as first course therapy, but the type and number of agents is not documented in patient record'\n",
    "data.loc[data['RX_SUMM_CHEMO'] == 2, 'RX_SUMM_CHEMO'] = 'Single-agent chemotherapy administered as first course therapy'\n",
    "data.loc[data['RX_SUMM_CHEMO'] == 3, 'RX_SUMM_CHEMO'] = 'Multiagent chemotherapy administered as first course therapy'\n",
    "data.loc[data['RX_SUMM_CHEMO'] == 82, 'RX_SUMM_CHEMO'] = 'Chemotherapy was not recommended/administered because it was contraindicated due to patient risk factors'\n",
    "data.loc[data['RX_SUMM_CHEMO'] == 85, 'RX_SUMM_CHEMO'] = 'Chemotherapy was not administered because the patient died prior to planned or recommended therapy'\n",
    "data.loc[data['RX_SUMM_CHEMO'] == 86, 'RX_SUMM_CHEMO'] = 'Chemotherapy was was recommended but was not administered as part of the first course of therapy'\n",
    "data.loc[data['RX_SUMM_CHEMO'] == 87, 'RX_SUMM_CHEMO'] = 'Chemotherapy was recommended by the physician, but was refused by the patient, a family member, or guardian'\n",
    "data.loc[data['RX_SUMM_CHEMO'] == 88, 'RX_SUMM_CHEMO'] = np.nan\n",
    "data.loc[data['RX_SUMM_CHEMO'] == 99, 'RX_SUMM_CHEMO'] = np.nan\n",
    "\n",
    "data['RX_SUMM_CHEMO'].value_counts(normalize=False, dropna=False)"
   ]
  },
  {
   "cell_type": "code",
   "execution_count": null,
   "metadata": {
    "colab": {
     "base_uri": "https://localhost:8080/"
    },
    "executionInfo": {
     "elapsed": 8,
     "status": "ok",
     "timestamp": 1695936811077,
     "user": {
      "displayName": "Mert Karabacak",
      "userId": "14308977132914475412"
     },
     "user_tz": 240
    },
    "id": "yxMJiuKA7nhb",
    "outputId": "3d5520b5-ad29-4b38-cbd2-43a95c93330a"
   },
   "outputs": [],
   "source": [
    "#Simplify 'RX_SUMM_CHEMO'.\n",
    "\n",
    "data.loc[data['RX_SUMM_CHEMO'] == 'None, chemotherapy was not part of the planned first course of therapy', 'RX_SUMM_CHEMO'] = 'No'\n",
    "data.loc[data['RX_SUMM_CHEMO'] == 'Chemotherapy administered as first course therapy, but the type and number of agents is not documented in patient record', 'RX_SUMM_CHEMO'] = 'Yes'\n",
    "data.loc[data['RX_SUMM_CHEMO'] == 'Single-agent chemotherapy administered as first course therapy', 'RX_SUMM_CHEMO'] = 'Yes'\n",
    "data.loc[data['RX_SUMM_CHEMO'] == 'Multiagent chemotherapy administered as first course therapy', 'RX_SUMM_CHEMO'] = 'Yes'\n",
    "data.loc[data['RX_SUMM_CHEMO'] == 'Chemotherapy was not recommended/administered because it was contraindicated due to patient risk factors', 'RX_SUMM_CHEMO'] = 'No'\n",
    "data.loc[data['RX_SUMM_CHEMO'] == 'Chemotherapy was not administered because the patient died prior to planned or recommended therapy', 'RX_SUMM_CHEMO'] = 'No'\n",
    "data.loc[data['RX_SUMM_CHEMO'] == 'Chemotherapy was was recommended but was not administered as part of the first course of therapy', 'RX_SUMM_CHEMO'] = 'No'\n",
    "data.loc[data['RX_SUMM_CHEMO'] == 'Chemotherapy was recommended by the physician, but was refused by the patient, a family member, or guardian', 'RX_SUMM_CHEMO'] = 'No'\n",
    "\n",
    "data['RX_SUMM_CHEMO'].value_counts(normalize=False, dropna=False)"
   ]
  },
  {
   "cell_type": "code",
   "execution_count": null,
   "metadata": {
    "colab": {
     "base_uri": "https://localhost:8080/"
    },
    "executionInfo": {
     "elapsed": 6,
     "status": "ok",
     "timestamp": 1695936811077,
     "user": {
      "displayName": "Mert Karabacak",
      "userId": "14308977132914475412"
     },
     "user_tz": 240
    },
    "id": "wcbyuokK04IH",
    "outputId": "7c849bd2-d667-4dae-8728-e8362d52aa53"
   },
   "outputs": [],
   "source": [
    "#Replace response values with descriptive strings for 'RX_SUMM_IMMUNOTHERAPY'.\n",
    "\n",
    "data.loc[data['RX_SUMM_IMMUNOTHERAPY'] == 0, 'RX_SUMM_IMMUNOTHERAPY'] = 'None, immunotherapy was not part of the planned first course of therapy'\n",
    "data.loc[data['RX_SUMM_IMMUNOTHERAPY'] == 1, 'RX_SUMM_IMMUNOTHERAPY'] = 'Immunotherapy administered as first course therapy, but the type and number of agents is not documented in patient record'\n",
    "data.loc[data['RX_SUMM_IMMUNOTHERAPY'] == 82, 'RX_SUMM_IMMUNOTHERAPY'] = 'Immunotherapy was not recommended/administered because it was contraindicated due to patient risk factors'\n",
    "data.loc[data['RX_SUMM_IMMUNOTHERAPY'] == 85, 'RX_SUMM_IMMUNOTHERAPY'] = 'Immunotherapy was not administered because the patient died prior to planned or recommended therapy'\n",
    "data.loc[data['RX_SUMM_IMMUNOTHERAPY'] == 86, 'RX_SUMM_IMMUNOTHERAPY'] = 'Immunotherapy was was recommended but was not administered as part of the first course of therapy'\n",
    "data.loc[data['RX_SUMM_IMMUNOTHERAPY'] == 87, 'RX_SUMM_IMMUNOTHERAPY'] = 'Immunotherapy was recommended by the physician, but was refused by the patient, a family member, or guardian'\n",
    "data.loc[data['RX_SUMM_IMMUNOTHERAPY'] == 88, 'RX_SUMM_IMMUNOTHERAPY'] = np.nan\n",
    "data.loc[data['RX_SUMM_IMMUNOTHERAPY'] == 99, 'RX_SUMM_IMMUNOTHERAPY'] = np.nan\n",
    "\n",
    "data['RX_SUMM_IMMUNOTHERAPY'].value_counts(normalize=False, dropna=False)"
   ]
  },
  {
   "cell_type": "code",
   "execution_count": null,
   "metadata": {
    "colab": {
     "base_uri": "https://localhost:8080/"
    },
    "executionInfo": {
     "elapsed": 520,
     "status": "ok",
     "timestamp": 1695936811592,
     "user": {
      "displayName": "Mert Karabacak",
      "userId": "14308977132914475412"
     },
     "user_tz": 240
    },
    "id": "_dzrOr6c8NKw",
    "outputId": "4591bfb7-f425-4b6a-a4dd-9d13b1a3dd68"
   },
   "outputs": [],
   "source": [
    "#Simplify 'RX_SUMM_CHEMO'.\n",
    "\n",
    "data.loc[data['RX_SUMM_IMMUNOTHERAPY'] == 'None, immunotherapy was not part of the planned first course of therapy', 'RX_SUMM_IMMUNOTHERAPY'] = 'No'\n",
    "data.loc[data['RX_SUMM_IMMUNOTHERAPY'] == 'Immunotherapy administered as first course therapy, but the type and number of agents is not documented in patient record', 'RX_SUMM_IMMUNOTHERAPY'] = 'Yes'\n",
    "data.loc[data['RX_SUMM_IMMUNOTHERAPY'] == 'Immunotherapy was not recommended/administered because it was contraindicated due to patient risk factors', 'RX_SUMM_IMMUNOTHERAPY'] = 'No'\n",
    "data.loc[data['RX_SUMM_IMMUNOTHERAPY'] == 'Immunotherapy was not administered because the patient died prior to planned or recommended therapy', 'RX_SUMM_IMMUNOTHERAPY'] = 'No'\n",
    "data.loc[data['RX_SUMM_IMMUNOTHERAPY'] == 'Immunotherapy was was recommended but was not administered as part of the first course of therapy', 'RX_SUMM_IMMUNOTHERAPY'] = 'No'\n",
    "data.loc[data['RX_SUMM_IMMUNOTHERAPY'] == 'Immunotherapy was recommended by the physician, but was refused by the patient, a family member, or guardian', 'RX_SUMM_IMMUNOTHERAPY'] = 'No'\n",
    "\n",
    "data['RX_SUMM_IMMUNOTHERAPY'].value_counts(normalize=False, dropna=False)"
   ]
  },
  {
   "cell_type": "code",
   "execution_count": null,
   "metadata": {
    "colab": {
     "base_uri": "https://localhost:8080/"
    },
    "executionInfo": {
     "elapsed": 12,
     "status": "ok",
     "timestamp": 1695936811592,
     "user": {
      "displayName": "Mert Karabacak",
      "userId": "14308977132914475412"
     },
     "user_tz": 240
    },
    "id": "oARChcGH36Oi",
    "outputId": "908f02de-3779-45d8-d95b-c8b9174ddbaf"
   },
   "outputs": [],
   "source": [
    "#Change response values to strings for 'PUF_VITAL_STATUS'.\n",
    "\n",
    "data.loc[data['PUF_VITAL_STATUS'] == 0, 'PUF_VITAL_STATUS'] = 'Dead'\n",
    "data.loc[data['PUF_VITAL_STATUS'] == 1, 'PUF_VITAL_STATUS'] = 'Alive'\n",
    "\n",
    "data['PUF_VITAL_STATUS'].value_counts(normalize=False, dropna=False)"
   ]
  },
  {
   "cell_type": "code",
   "execution_count": null,
   "metadata": {
    "executionInfo": {
     "elapsed": 7,
     "status": "ok",
     "timestamp": 1695936811592,
     "user": {
      "displayName": "Mert Karabacak",
      "userId": "14308977132914475412"
     },
     "user_tz": 240
    },
    "id": "y7BytwvQJuF4"
   },
   "outputs": [],
   "source": [
    "#Save labeled data.\n",
    "\n",
    "data.to_csv('/content/drive/MyDrive/NCDB-GBM/raw_data.csv')"
   ]
  }
 ],
 "metadata": {
  "colab": {
   "authorship_tag": "ABX9TyOlg8mdxFnMF2dRYZTdaQjF",
   "provenance": [
    {
     "file_id": "1vzECBl0HcYAFLag_1nvQL-aX4xkWKqjw",
     "timestamp": 1695311048921
    },
    {
     "file_id": "1ir_XjsdOcpdy2qUzvaMKZXRmPwOJeSQq",
     "timestamp": 1689951267949
    },
    {
     "file_id": "13k7Ee9afjLLje2iq2SErPTKfQ_DWPRn9",
     "timestamp": 1689781386984
    }
   ]
  },
  "kernelspec": {
   "display_name": "Python 3 (ipykernel)",
   "language": "python",
   "name": "python3"
  },
  "language_info": {
   "codemirror_mode": {
    "name": "ipython",
    "version": 3
   },
   "file_extension": ".py",
   "mimetype": "text/x-python",
   "name": "python",
   "nbconvert_exporter": "python",
   "pygments_lexer": "ipython3",
   "version": "3.9.6"
  }
 },
 "nbformat": 4,
 "nbformat_minor": 4
}
